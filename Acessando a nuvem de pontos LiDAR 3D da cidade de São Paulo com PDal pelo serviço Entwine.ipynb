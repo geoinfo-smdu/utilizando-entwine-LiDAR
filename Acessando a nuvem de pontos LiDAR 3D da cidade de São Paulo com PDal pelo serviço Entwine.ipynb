{
 "cells": [
  {
   "cell_type": "markdown",
   "metadata": {},
   "source": [
    "# Acessando a nuvem de pontos LiDAR 3D da cidade de São Paulo com PDal pelo serviço Entiwine\n",
    "\n",
    "Nesse notebook vamos explorar alguns recuros da nuvem de pontos LiDAR 3D da cidade de São Paulo utilizando Python e a biblioteca PDal que vão acessar diretamente os dados disponibilizados pelo serviço Entwine. \n",
    "Dessa forma não vamos ter que fazer download dos arquivos LAZ o que pode ser vantajoso em alguns casos.\n",
    "\n",
    "## Escolhendo uma região de interesse\n",
    "\n",
    "Para esse exemplo vamos utilizar o parque do Ibirapuera como área de interesse para trabalhar os dados. Para deixar esse exercício ainda mais interessante não vamos fazer o download da feição do parque do Ibirapuera. Para obter a sua geometria vamos acessar o serviço WFS do GeoSampa"
   ]
  },
  {
   "cell_type": "code",
   "execution_count": 1,
   "metadata": {},
   "outputs": [],
   "source": [
    "from owslib.wfs import WebFeatureService\n",
    "\n",
    "url_wfs = 'http://wfs.geosampa.prefeitura.sp.gov.br/geoserver/wfs'\n",
    "wfs = WebFeatureService(url_wfs, version='2.0.0')"
   ]
  },
  {
   "cell_type": "code",
   "execution_count": 2,
   "metadata": {},
   "outputs": [
    {
     "data": {
      "text/plain": [
       "'Parques municipais existentes, que atendem a pelo menos duas das seguintes condições: a) Possui decreto de criação; b) Administrado por SVMA; c) Projeto desenvolvido por SVMA.'"
      ]
     },
     "execution_count": 2,
     "metadata": {},
     "output_type": "execute_result"
    }
   ],
   "source": [
    "wfs['geoportal:parque_municipal'].abstract"
   ]
  },
  {
   "cell_type": "code",
   "execution_count": 3,
   "metadata": {},
   "outputs": [
    {
     "data": {
      "text/plain": [
       "['geoportal:equipamento_saude_abrangencia_ubs',\n",
       " 'geoportal:patrimonio_cultural_acervo_tombado',\n",
       " 'geoportal:acidente_cet',\n",
       " 'geoportal:equipamento_saude_ambulatorios_especializados',\n",
       " 'geoportal:equipamento_ccz',\n",
       " 'geoportal:arvore',\n",
       " 'geoportal:arruamento_regularizado',\n",
       " 'geoportal:equipamento_assistencia_social',\n",
       " 'geoportal:bacia_hidrografica',\n",
       " 'geoportal:patrimonio_cultural_bem_registrado',\n",
       " 'geoportal:patrimonio_cultural_bem_tombado',\n",
       " 'geoportal:patrimonio_cultural_bem_arqueologico',\n",
       " 'geoportal:equipamento_cultura_bibliotecas',\n",
       " 'geoportal:equipamento_bom_prato',\n",
       " 'geoportal:equipamento_bombeiros',\n",
       " 'geoportal:equipamento_cat',\n",
       " 'geoportal:equipamento_educacao_ceu',\n",
       " 'geoportal:cartorio_registro_imovel',\n",
       " 'geoportal:equipamento_casas_mediacao',\n",
       " 'geoportal:equipamento_cemiterio',\n",
       " 'geoportal:equipamento_central_triagem_cooperativa',\n",
       " 'geoportal:equipamento_central_triagem_mecanizada',\n",
       " 'geoportal:equipamento_esporte_centro_esportivo',\n",
       " 'geoportal:centro_referencia_assistencia_social',\n",
       " 'geoportal:equipamento_esporte_clubes',\n",
       " 'geoportal:equipamento_esporte_clubesdacomunidade',\n",
       " 'geoportal:conjunto',\n",
       " 'geoportal:equipamento_conselho_tutelar',\n",
       " 'geoportal:equipamento_saude_coordenadoria_regional',\n",
       " 'geoportal:corredor_onibus',\n",
       " 'geoportal:corredor_ecologico',\n",
       " 'geoportal:croqui_patrimonial',\n",
       " 'geoportal:semaforo',\n",
       " 'geoportal:equipamento_cultura_outros',\n",
       " 'geoportal:curva_intermediaria',\n",
       " 'geoportal:curva_intermediaria_s',\n",
       " 'geoportal:curva_mestra',\n",
       " 'geoportal:curva_mestra_s',\n",
       " 'geoportal:declividade',\n",
       " 'geoportal:decreto_utilidade_publica_interesse_social',\n",
       " 'geoportal:deliberacao_ctlu',\n",
       " 'geoportal:setor_censitario_densidadedemografica',\n",
       " 'geoportal:departamento_cet',\n",
       " 'geoportal:desmembramento_gleba',\n",
       " 'geoportal:diretriz',\n",
       " 'geoportal:distrito_municipal',\n",
       " 'geoportal:drenagem',\n",
       " 'geoportal:equipamento_ecoponto',\n",
       " 'geoportal:edificacao',\n",
       " 'geoportal:equipamento_educacao_outros',\n",
       " 'geoportal:equipamento_educacao_infantil_rede_publica',\n",
       " 'geoportal:eixo_ativado_decreto',\n",
       " 'geoportal:pde2014_v_eixo_prv_03a_map',\n",
       " 'geoportal:pde2014_v_eetr_03_map',\n",
       " 'geoportal:equipamento_educacao_rede_publica',\n",
       " 'geoportal:equipamento_educacao_ensino_tecnico_rede_publica',\n",
       " 'geoportal:equipamento_entidade_crianca_adolescente',\n",
       " 'geoportal:equipamento_cultura_espacos_culturais',\n",
       " 'geoportal:equipamento_esporte_outros',\n",
       " 'geoportal:equipamento_esporte_estadios',\n",
       " 'geoportal:conectividade_fablab_grande',\n",
       " 'geoportal:conectividade_fablab_pequeno',\n",
       " 'geoportal:faixa_onibus',\n",
       " 'geoportal:equipamento_feira_livre',\n",
       " 'geoportal:ferrovia_mdc',\n",
       " 'geoportal:gerencia_cet',\n",
       " 'geoportal:equipamento_guarda_civil_metropolitana',\n",
       " 'geoportal:equipamento_saude_hospital',\n",
       " 'geoportal:setor_censitario_vulnerabilidadesocial',\n",
       " 'geoportal:hidrografia_ilha',\n",
       " 'geoportal:imovel_notificado',\n",
       " 'geoportal:patrimonio_cultural_memoria_paulistana',\n",
       " 'geoportal:linha_alta_tensao',\n",
       " 'geoportal:geotecnica_linha',\n",
       " 'geoportal:linha_onibus',\n",
       " 'geoportal:segmento_logradouro',\n",
       " 'geoportal:patrimonio_cultural_lugar_paisagistico_ambiental',\n",
       " 'geoportal:pde2014_v_mcrz_01_map',\n",
       " 'geoportal:pde2014_v_mcrar_02_map',\n",
       " 'geoportal:cobertura_vegetal',\n",
       " 'geoportal:marco',\n",
       " 'geoportal:massa_d_agua',\n",
       " 'geoportal:equipamento_mercados_municipais',\n",
       " 'geoportal:estacao_metro',\n",
       " 'geoportal:linha_metro',\n",
       " 'geoportal:patrimonio_cultural_monumento',\n",
       " 'geoportal:area_contexto',\n",
       " 'geoportal:equipamento_cultura_museus',\n",
       " 'geoportal:hidrografia_restituida',\n",
       " 'geoportal:obra_arte',\n",
       " 'geoportal:patrimonio_cultural_ocorrencia_arqueologica',\n",
       " 'geoportal:operacao_urbana',\n",
       " 'geoportal:outorga_onerosa',\n",
       " 'geoportal:parque_municipal',\n",
       " 'geoportal:passagem',\n",
       " 'geoportal:plano_macro_regional',\n",
       " 'geoportal:plano_acao_regional',\n",
       " 'geoportal:pde2014_v_prmr_ict_11_map',\n",
       " 'geoportal:pluviometro',\n",
       " 'geoportal:geotecnica_poligono',\n",
       " 'geoportal:equipamento_policia_civil',\n",
       " 'geoportal:equipamento_policia_militar',\n",
       " 'geoportal:ponto_cotado',\n",
       " 'geoportal:ponto_intervia',\n",
       " 'geoportal:geotecnica_ponto',\n",
       " 'geoportal:iluminacao_publica',\n",
       " 'geoportal:ponto_onibus',\n",
       " 'geoportal:sede_subprefeitura',\n",
       " 'geoportal:subprefeitura',\n",
       " 'geoportal:equipamento_educacao_pronatec',\n",
       " 'geoportal:quadra_fiscal',\n",
       " 'geoportal:quadra_viaria_editada',\n",
       " 'geoportal:equipamento_educacao_rede_privada',\n",
       " 'geoportal:via_bicicleta',\n",
       " 'geoportal:equipamento_rede_servicos',\n",
       " 'geoportal:rede_comgas',\n",
       " 'geoportal:transpetro_duto',\n",
       " 'geoportal:transpetro_marco',\n",
       " 'geoportal:registro_area_publica',\n",
       " 'geoportal:remanescente_pmma',\n",
       " 'geoportal:represa_nivel_maximo',\n",
       " 'geoportal:reservatorio_amortecimento',\n",
       " 'geoportal:equipamento_sacoloes',\n",
       " 'geoportal:equipamento_saude_outros',\n",
       " 'geoportal:equipamento_saude_saude_mental',\n",
       " 'geoportal:acessibilidade_smped',\n",
       " 'geoportal:patrimonio_cultural_selo_valor_cultural',\n",
       " 'geoportal:equipamento_educacao_senai_sesi_senac',\n",
       " 'geoportal:servico_assistencia_social_familia',\n",
       " 'geoportal:servico_medida_socioeducativa',\n",
       " 'geoportal:setor_fiscal',\n",
       " 'geoportal:setor_censitario_2010',\n",
       " 'geoportal:pde2014_v_maem_02a_map',\n",
       " 'geoportal:equipamento_shopping_center',\n",
       " 'geoportal:patrimonio_cultural_sitio_arqueologico',\n",
       " 'geoportal:equipamento_cultura_teatro_cinema_show',\n",
       " 'geoportal:conectividade_telecentro',\n",
       " 'geoportal:terminal_onibus',\n",
       " 'geoportal:terra_indigena',\n",
       " 'geoportal:torre_alta_tensao',\n",
       " 'geoportal:estacao_trem',\n",
       " 'geoportal:linha_trem',\n",
       " 'geoportal:equipamento_saude_ubs_posto_centro',\n",
       " 'geoportal:equipamento_saude_unidades_dst-aids',\n",
       " 'geoportal:unidade_conservacao_APA',\n",
       " 'geoportal:pde2014_v_zu_zr_01a_map',\n",
       " 'geoportal:equipamento_saude_urgencia_emergencia',\n",
       " 'geoportal:tpcl_uso_predominancia',\n",
       " 'geoportal:quadricula_vasp_cruzeiro',\n",
       " 'geoportal:equipamento_saude_vigilancia_saude',\n",
       " 'geoportal:equipamento_praca_wifi',\n",
       " 'geoportal:pde2014_v_zeis_04_map',\n",
       " 'geoportal:pde2014_v_zeis_04a_map',\n",
       " 'geoportal:zona_origem_destino',\n",
       " 'geoportal:calcada',\n",
       " 'geoportal:geohabisp_vw_wfs_cortico_geosampa',\n",
       " 'geoportal:equipamento_saude_supervisao_tecnica',\n",
       " 'geoportal:geohabisp_vw_wfs_favela_geosampa',\n",
       " 'geoportal:geohabisp_vw_wfs_loteamento_geosampa',\n",
       " 'geoportal:geohabisp_vw_wfs_nucleo_geosampa',\n",
       " 'geoportal:subsetor_operacao_urbana',\n",
       " 'geoportal:patrimonio_cultural_area_envoltoria_CONDEPHAAT',\n",
       " 'geoportal:patrimonio_cultural_area_envoltoria_CONPRESP',\n",
       " 'geoportal:patrimonio_cultural_area_envoltoria_IPHAN',\n",
       " 'geoportal:area_inundavel',\n",
       " 'geoportal:area_cedida',\n",
       " 'geoportal:manancial',\n",
       " 'geoportal:area_risco_geologico',\n",
       " 'geoportal:equipamento_saude_cobertura_familia',\n",
       " 'geoportal:pde2014_v_parq_pde_map',\n",
       " 'geoportal:restricao_geotecnica',\n",
       " 'geoportal:patrimonio_cultural_area_arqueologica',\n",
       " 'geoportal:quadricula_SARA_1930_E1000',\n",
       " 'geoportal:quadricula_SARA_1930_E20000',\n",
       " 'geoportal:quadricula_SARA_1930_E5000',\n",
       " 'geoportal:quadricula_foto_aerea_1940',\n",
       " 'geoportal:quadricula_foto_aerea_1954',\n",
       " 'geoportal:quadricula_foto_aerea_2000',\n",
       " 'geoportal:quadricula_foto_aerea_2001',\n",
       " 'geoportal:quadricula_foto_aerea_2004_E1000',\n",
       " 'geoportal:quadricula_foto_aerea_2004_E5000',\n",
       " 'geoportal:quadricula_orto_2001',\n",
       " 'geoportal:quadricula_orto_2004_E1000',\n",
       " 'geoportal:quadricula_orto_2004_E5000']"
      ]
     },
     "execution_count": 3,
     "metadata": {},
     "output_type": "execute_result"
    }
   ],
   "source": [
    "list(wfs.contents)"
   ]
  },
  {
   "cell_type": "code",
   "execution_count": 4,
   "metadata": {},
   "outputs": [
    {
     "data": {
      "text/plain": [
       "{'properties': {'cd_identificador_parque_municipal': 'decimal',\n",
       "  'nm_parque': 'string',\n",
       "  'qt_area': 'decimal'},\n",
       " 'required': ['cd_identificador_parque_municipal'],\n",
       " 'geometry': '3D Polygon',\n",
       " 'geometry_column': 'ge_poligono'}"
      ]
     },
     "execution_count": 4,
     "metadata": {},
     "output_type": "execute_result"
    }
   ],
   "source": [
    "wfs.get_schema('geoportal:parque_municipal')"
   ]
  },
  {
   "cell_type": "code",
   "execution_count": 5,
   "metadata": {},
   "outputs": [],
   "source": [
    "todos_parques = wfs.getfeature(typename='geoportal:parque_municipal', outputFormat='application/json')"
   ]
  },
  {
   "cell_type": "code",
   "execution_count": 6,
   "metadata": {},
   "outputs": [],
   "source": [
    "import json\n",
    "parques = json.load(todos_parques)"
   ]
  },
  {
   "cell_type": "code",
   "execution_count": 7,
   "metadata": {},
   "outputs": [],
   "source": [
    "modernista = list(filter(lambda x: x['properties']['nm_parque'] == 'CASA MODERNISTA', parques['features']))"
   ]
  },
  {
   "cell_type": "code",
   "execution_count": 8,
   "metadata": {},
   "outputs": [
    {
     "data": {
      "text/plain": [
       "[{'type': 'Feature',\n",
       "  'id': 'parque_municipal.9',\n",
       "  'geometry': {'type': 'Polygon',\n",
       "   'coordinates': [[[333382.3471999997, 7389586.9451],\n",
       "     [333385.6372999996, 7389584.5456],\n",
       "     [333388.3337000003, 7389581.8061],\n",
       "     [333391.84640000015, 7389577.0871],\n",
       "     [333396.1013000002, 7389570.9283],\n",
       "     [333398.7977, 7389567.0891],\n",
       "     [333401.6096000001, 7389562.6899],\n",
       "     [333404.00090000033, 7389558.3908],\n",
       "     [333405.78199999966, 7389554.3116],\n",
       "     [333408.2062999997, 7389547.9229],\n",
       "     [333410.21829999983, 7389541.6341],\n",
       "     [333412.0323999999, 7389534.3456],\n",
       "     [333413.64859999996, 7389527.387],\n",
       "     [333416.91390000004, 7389510.2504],\n",
       "     [333417.9528999999, 7389498.9626],\n",
       "     [333423.13129999954, 7389474.3275],\n",
       "     [333424.73929999955, 7389467.2589],\n",
       "     [333424.36000000034, 7389465.0394],\n",
       "     [333422.7520000003, 7389462.9198],\n",
       "     [333420.01439999975, 7389461.3301],\n",
       "     [333415.62760000024, 7389460.7302],\n",
       "     [333407.76099999994, 7389461.5301],\n",
       "     [333388.5564000001, 7389462.7498],\n",
       "     [333374.67030000035, 7389463.3697],\n",
       "     [333364.767, 7389462.9198],\n",
       "     [333341.82689999975, 7389461.4401],\n",
       "     [333313.68369999994, 7389459.4604],\n",
       "     [333310.7977, 7389497.4129],\n",
       "     [333309.2391999997, 7389517.8888],\n",
       "     [333308.2909000004, 7389529.2766],\n",
       "     [333308.0599999996, 7389531.7161],\n",
       "     [333306.77359999996, 7389546.6531],\n",
       "     [333306.17169999983, 7389554.0616],\n",
       "     [333303.60720000044, 7389582.0561],\n",
       "     [333329.81259999983, 7389584.1257],\n",
       "     [333368.2631999999, 7389586.5652],\n",
       "     [333378.15830000024, 7389587.0051],\n",
       "     [333382.3471999997, 7389586.9451]]]},\n",
       "  'geometry_name': 'ge_poligono',\n",
       "  'properties': {'cd_identificador_parque_municipal': 9,\n",
       "   'nm_parque': 'CASA MODERNISTA',\n",
       "   'qt_area': 12683}}]"
      ]
     },
     "execution_count": 8,
     "metadata": {},
     "output_type": "execute_result"
    }
   ],
   "source": [
    "modernista"
   ]
  },
  {
   "cell_type": "code",
   "execution_count": 9,
   "metadata": {},
   "outputs": [],
   "source": [
    "from shapely.geometry import Polygon\n",
    "polygon = Polygon(modernista[0]['geometry']['coordinates'][0])"
   ]
  },
  {
   "cell_type": "code",
   "execution_count": 10,
   "metadata": {},
   "outputs": [
    {
     "data": {
      "image/svg+xml": [
       "<svg xmlns=\"http://www.w3.org/2000/svg\" xmlns:xlink=\"http://www.w3.org/1999/xlink\" width=\"131.33567599905655\" height=\"137.74827599991113\" viewBox=\"333298.50541200046 7389454.358612 131.33567599905655 137.74827599991113\" preserveAspectRatio=\"xMinYMin meet\"><g transform=\"matrix(1,0,0,-1,0,14779046.4655)\"><path fill-rule=\"evenodd\" fill=\"#66cc99\" stroke=\"#555555\" stroke-width=\"2.0\" opacity=\"0.6\" d=\"M 333382.3471999997,7389586.9451 L 333385.6372999996,7389584.5456 L 333388.3337000003,7389581.8061 L 333391.84640000015,7389577.0871 L 333396.1013000002,7389570.9283 L 333398.7977,7389567.0891 L 333401.6096000001,7389562.6899 L 333404.00090000033,7389558.3908 L 333405.78199999966,7389554.3116 L 333408.2062999997,7389547.9229 L 333410.21829999983,7389541.6341 L 333412.0323999999,7389534.3456 L 333413.64859999996,7389527.387 L 333416.91390000004,7389510.2504 L 333417.9528999999,7389498.9626 L 333423.13129999954,7389474.3275 L 333424.73929999955,7389467.2589 L 333424.36000000034,7389465.0394 L 333422.7520000003,7389462.9198 L 333420.01439999975,7389461.3301 L 333415.62760000024,7389460.7302 L 333407.76099999994,7389461.5301 L 333388.5564000001,7389462.7498 L 333374.67030000035,7389463.3697 L 333364.767,7389462.9198 L 333341.82689999975,7389461.4401 L 333313.68369999994,7389459.4604 L 333310.7977,7389497.4129 L 333309.2391999997,7389517.8888 L 333308.2909000004,7389529.2766 L 333308.0599999996,7389531.7161 L 333306.77359999996,7389546.6531 L 333306.17169999983,7389554.0616 L 333303.60720000044,7389582.0561 L 333329.81259999983,7389584.1257 L 333368.2631999999,7389586.5652 L 333378.15830000024,7389587.0051 L 333382.3471999997,7389586.9451 z\" /></g></svg>"
      ],
      "text/plain": [
       "<shapely.geometry.polygon.Polygon at 0x7fc70e8b0d50>"
      ]
     },
     "metadata": {},
     "output_type": "display_data"
    }
   ],
   "source": [
    "display(polygon)"
   ]
  },
  {
   "cell_type": "markdown",
   "metadata": {},
   "source": [
    "## Acessando a nuvem de pontos LiDAR da região de interesse\n",
    "\n",
    "Agora que já temos o polígono da região de interesse podemos carregar os pontos a partir do serviço EntWine"
   ]
  },
  {
   "cell_type": "code",
   "execution_count": 11,
   "metadata": {},
   "outputs": [],
   "source": [
    "import pdal"
   ]
  },
  {
   "cell_type": "code",
   "execution_count": 12,
   "metadata": {},
   "outputs": [],
   "source": [
    "bounds = polygon.bounds"
   ]
  },
  {
   "cell_type": "code",
   "execution_count": 13,
   "metadata": {},
   "outputs": [
    {
     "name": "stdout",
     "output_type": "stream",
     "text": [
      "CPU times: user 4.49 s, sys: 105 ms, total: 4.59 s\n",
      "Wall time: 4.29 s\n",
      "Pipeline selected 324405 points (25.6 pts/m2)\n"
     ]
    }
   ],
   "source": [
    "cropper = [\n",
    "    {\n",
    "      \"type\": \"readers.ept\",\n",
    "      \"filename\": \"https://ept-m3dc-pmsp.s3-sa-east-1.amazonaws.com/ept.json\",\n",
    "      \"bounds\": str(([bounds[0], bounds[2]],[bounds[1], bounds[3]]))\n",
    "    },\n",
    "    {   \"type\":\"filters.crop\",\n",
    "        'polygon':polygon.wkt\n",
    "    },\n",
    "    {   \n",
    "        \"type\":\"filters.hag_delaunay\"\n",
    "#     },\n",
    "#     {   \"type\":\"filters.eigenvalues\",\n",
    "#         \"knn\":16\n",
    "    },\n",
    "#     {   \"type\":\"filters.normal\",\n",
    "#         \"knn\":16\n",
    "#     },\n",
    "#     {\n",
    "#         \"type\":\"filters.cluster\"\n",
    "#     },\n",
    "]\n",
    "# json.dumps(cropper)\n",
    "pipeline = pdal.Pipeline(json.dumps(cropper))\n",
    "pipeline.validate()\n",
    "%time n_points = pipeline.execute()\n",
    "print('Pipeline selected {} points ({:.1f} pts/m2)'.format(n_points, n_points/polygon.area))"
   ]
  },
  {
   "cell_type": "code",
   "execution_count": 14,
   "metadata": {},
   "outputs": [
    {
     "data": {
      "text/plain": [
       "{'schema': {'dimensions': [{'name': 'X', 'size': 8, 'type': 'floating'},\n",
       "   {'name': 'Y', 'size': 8, 'type': 'floating'},\n",
       "   {'name': 'Z', 'size': 8, 'type': 'floating'},\n",
       "   {'name': 'Intensity', 'size': 2, 'type': 'unsigned'},\n",
       "   {'name': 'ReturnNumber', 'size': 1, 'type': 'unsigned'},\n",
       "   {'name': 'NumberOfReturns', 'size': 1, 'type': 'unsigned'},\n",
       "   {'name': 'ScanDirectionFlag', 'size': 1, 'type': 'unsigned'},\n",
       "   {'name': 'EdgeOfFlightLine', 'size': 1, 'type': 'unsigned'},\n",
       "   {'name': 'Classification', 'size': 1, 'type': 'unsigned'},\n",
       "   {'name': 'ScanAngleRank', 'size': 4, 'type': 'floating'},\n",
       "   {'name': 'UserData', 'size': 1, 'type': 'unsigned'},\n",
       "   {'name': 'PointSourceId', 'size': 2, 'type': 'unsigned'},\n",
       "   {'name': 'GpsTime', 'size': 8, 'type': 'floating'},\n",
       "   {'name': 'Red', 'size': 2, 'type': 'unsigned'},\n",
       "   {'name': 'Green', 'size': 2, 'type': 'unsigned'},\n",
       "   {'name': 'Blue', 'size': 2, 'type': 'unsigned'},\n",
       "   {'name': 'OriginId', 'size': 4, 'type': 'unsigned'},\n",
       "   {'name': 'HeightAboveGround', 'size': 8, 'type': 'floating'}]}}"
      ]
     },
     "execution_count": 14,
     "metadata": {},
     "output_type": "execute_result"
    }
   ],
   "source": [
    "pipeline.schema"
   ]
  },
  {
   "cell_type": "code",
   "execution_count": 15,
   "metadata": {},
   "outputs": [
    {
     "data": {
      "text/html": [
       "<div>\n",
       "<style scoped>\n",
       "    .dataframe tbody tr th:only-of-type {\n",
       "        vertical-align: middle;\n",
       "    }\n",
       "\n",
       "    .dataframe tbody tr th {\n",
       "        vertical-align: top;\n",
       "    }\n",
       "\n",
       "    .dataframe thead th {\n",
       "        text-align: right;\n",
       "    }\n",
       "</style>\n",
       "<table border=\"1\" class=\"dataframe\">\n",
       "  <thead>\n",
       "    <tr style=\"text-align: right;\">\n",
       "      <th></th>\n",
       "      <th>X</th>\n",
       "      <th>Y</th>\n",
       "      <th>Z</th>\n",
       "      <th>Intensity</th>\n",
       "      <th>ReturnNumber</th>\n",
       "      <th>NumberOfReturns</th>\n",
       "      <th>ScanDirectionFlag</th>\n",
       "      <th>EdgeOfFlightLine</th>\n",
       "      <th>Classification</th>\n",
       "      <th>ScanAngleRank</th>\n",
       "      <th>UserData</th>\n",
       "      <th>PointSourceId</th>\n",
       "      <th>GpsTime</th>\n",
       "      <th>Red</th>\n",
       "      <th>Green</th>\n",
       "      <th>Blue</th>\n",
       "      <th>OriginId</th>\n",
       "      <th>HeightAboveGround</th>\n",
       "    </tr>\n",
       "  </thead>\n",
       "  <tbody>\n",
       "    <tr>\n",
       "      <th>0</th>\n",
       "      <td>333372.24</td>\n",
       "      <td>7389562.82</td>\n",
       "      <td>811.69</td>\n",
       "      <td>16</td>\n",
       "      <td>2</td>\n",
       "      <td>2</td>\n",
       "      <td>0</td>\n",
       "      <td>0</td>\n",
       "      <td>5</td>\n",
       "      <td>18.0</td>\n",
       "      <td>15</td>\n",
       "      <td>31</td>\n",
       "      <td>1.763125e+08</td>\n",
       "      <td>21760</td>\n",
       "      <td>26112</td>\n",
       "      <td>28672</td>\n",
       "      <td>2752</td>\n",
       "      <td>15.203997</td>\n",
       "    </tr>\n",
       "    <tr>\n",
       "      <th>1</th>\n",
       "      <td>333398.99</td>\n",
       "      <td>7389463.42</td>\n",
       "      <td>830.64</td>\n",
       "      <td>22</td>\n",
       "      <td>1</td>\n",
       "      <td>2</td>\n",
       "      <td>1</td>\n",
       "      <td>0</td>\n",
       "      <td>5</td>\n",
       "      <td>2.0</td>\n",
       "      <td>32</td>\n",
       "      <td>31</td>\n",
       "      <td>1.763123e+08</td>\n",
       "      <td>12800</td>\n",
       "      <td>20992</td>\n",
       "      <td>26112</td>\n",
       "      <td>2752</td>\n",
       "      <td>31.370000</td>\n",
       "    </tr>\n",
       "    <tr>\n",
       "      <th>2</th>\n",
       "      <td>333404.38</td>\n",
       "      <td>7389526.79</td>\n",
       "      <td>830.11</td>\n",
       "      <td>32</td>\n",
       "      <td>1</td>\n",
       "      <td>2</td>\n",
       "      <td>1</td>\n",
       "      <td>0</td>\n",
       "      <td>5</td>\n",
       "      <td>-2.0</td>\n",
       "      <td>33</td>\n",
       "      <td>31</td>\n",
       "      <td>1.763123e+08</td>\n",
       "      <td>11520</td>\n",
       "      <td>18944</td>\n",
       "      <td>23040</td>\n",
       "      <td>2752</td>\n",
       "      <td>32.971534</td>\n",
       "    </tr>\n",
       "    <tr>\n",
       "      <th>3</th>\n",
       "      <td>333334.99</td>\n",
       "      <td>7389527.05</td>\n",
       "      <td>801.13</td>\n",
       "      <td>4</td>\n",
       "      <td>2</td>\n",
       "      <td>2</td>\n",
       "      <td>0</td>\n",
       "      <td>0</td>\n",
       "      <td>19</td>\n",
       "      <td>3.0</td>\n",
       "      <td>0</td>\n",
       "      <td>31</td>\n",
       "      <td>1.763123e+08</td>\n",
       "      <td>28160</td>\n",
       "      <td>33280</td>\n",
       "      <td>31232</td>\n",
       "      <td>2752</td>\n",
       "      <td>-0.128636</td>\n",
       "    </tr>\n",
       "    <tr>\n",
       "      <th>4</th>\n",
       "      <td>333339.30</td>\n",
       "      <td>7389535.53</td>\n",
       "      <td>819.48</td>\n",
       "      <td>10</td>\n",
       "      <td>1</td>\n",
       "      <td>2</td>\n",
       "      <td>1</td>\n",
       "      <td>0</td>\n",
       "      <td>5</td>\n",
       "      <td>3.0</td>\n",
       "      <td>19</td>\n",
       "      <td>31</td>\n",
       "      <td>1.763123e+08</td>\n",
       "      <td>8448</td>\n",
       "      <td>13312</td>\n",
       "      <td>20224</td>\n",
       "      <td>2752</td>\n",
       "      <td>18.525098</td>\n",
       "    </tr>\n",
       "  </tbody>\n",
       "</table>\n",
       "</div>"
      ],
      "text/plain": [
       "           X           Y       Z  Intensity  ReturnNumber  NumberOfReturns  \\\n",
       "0  333372.24  7389562.82  811.69         16             2                2   \n",
       "1  333398.99  7389463.42  830.64         22             1                2   \n",
       "2  333404.38  7389526.79  830.11         32             1                2   \n",
       "3  333334.99  7389527.05  801.13          4             2                2   \n",
       "4  333339.30  7389535.53  819.48         10             1                2   \n",
       "\n",
       "   ScanDirectionFlag  EdgeOfFlightLine  Classification  ScanAngleRank  \\\n",
       "0                  0                 0               5           18.0   \n",
       "1                  1                 0               5            2.0   \n",
       "2                  1                 0               5           -2.0   \n",
       "3                  0                 0              19            3.0   \n",
       "4                  1                 0               5            3.0   \n",
       "\n",
       "   UserData  PointSourceId       GpsTime    Red  Green   Blue  OriginId  \\\n",
       "0        15             31  1.763125e+08  21760  26112  28672      2752   \n",
       "1        32             31  1.763123e+08  12800  20992  26112      2752   \n",
       "2        33             31  1.763123e+08  11520  18944  23040      2752   \n",
       "3         0             31  1.763123e+08  28160  33280  31232      2752   \n",
       "4        19             31  1.763123e+08   8448  13312  20224      2752   \n",
       "\n",
       "   HeightAboveGround  \n",
       "0          15.203997  \n",
       "1          31.370000  \n",
       "2          32.971534  \n",
       "3          -0.128636  \n",
       "4          18.525098  "
      ]
     },
     "execution_count": 15,
     "metadata": {},
     "output_type": "execute_result"
    }
   ],
   "source": [
    "import pandas as pd\n",
    "arr = pipeline.arrays[0]\n",
    "df = pd.DataFrame(arr)\n",
    "# print(df.head().to_latex(index=False))\n",
    "df.head()\n"
   ]
  },
  {
   "cell_type": "code",
   "execution_count": 16,
   "metadata": {},
   "outputs": [
    {
     "data": {
      "text/plain": [
       "X                    float64\n",
       "Y                    float64\n",
       "Z                    float64\n",
       "Intensity             uint16\n",
       "ReturnNumber           uint8\n",
       "NumberOfReturns        uint8\n",
       "ScanDirectionFlag      uint8\n",
       "EdgeOfFlightLine       uint8\n",
       "Classification         uint8\n",
       "ScanAngleRank        float32\n",
       "UserData               uint8\n",
       "PointSourceId         uint16\n",
       "GpsTime              float64\n",
       "Red                   uint16\n",
       "Green                 uint16\n",
       "Blue                  uint16\n",
       "OriginId              uint32\n",
       "HeightAboveGround    float64\n",
       "dtype: object"
      ]
     },
     "execution_count": 16,
     "metadata": {},
     "output_type": "execute_result"
    }
   ],
   "source": [
    "df.dtypes"
   ]
  },
  {
   "cell_type": "code",
   "execution_count": 17,
   "metadata": {},
   "outputs": [
    {
     "data": {
      "text/plain": [
       "array([ 5, 19,  2, 20,  6], dtype=uint8)"
      ]
     },
     "execution_count": 17,
     "metadata": {},
     "output_type": "execute_result"
    }
   ],
   "source": [
    "df.Classification.unique()"
   ]
  },
  {
   "cell_type": "code",
   "execution_count": 18,
   "metadata": {},
   "outputs": [
    {
     "data": {
      "text/plain": [
       "<matplotlib.axes._subplots.AxesSubplot at 0x7fc6c348bf90>"
      ]
     },
     "execution_count": 18,
     "metadata": {},
     "output_type": "execute_result"
    },
    {
     "data": {
      "image/png": "[encoded data removed]",
      "text/plain": [
       "<Figure size 432x288 with 1 Axes>"
      ]
     },
     "metadata": {
      "needs_background": "light"
     },
     "output_type": "display_data"
    }
   ],
   "source": [
    "df[df.Classification == 5].HeightAboveGround.hist()"
   ]
  },
  {
   "cell_type": "code",
   "execution_count": 19,
   "metadata": {},
   "outputs": [
    {
     "data": {
      "text/plain": [
       "<matplotlib.axes._subplots.AxesSubplot at 0x7fc6c2f03c10>"
      ]
     },
     "execution_count": 19,
     "metadata": {},
     "output_type": "execute_result"
    },
    {
     "data": {
      "image/png": "[encoded data removed]",
      "text/plain": [
       "<Figure size 432x288 with 1 Axes>"
      ]
     },
     "metadata": {
      "needs_background": "light"
     },
     "output_type": "display_data"
    }
   ],
   "source": [
    "df[df.Classification == 6].HeightAboveGround.hist()"
   ]
  },
  {
   "cell_type": "code",
   "execution_count": 20,
   "metadata": {},
   "outputs": [
    {
     "data": {
      "text/plain": [
       "<matplotlib.axes._subplots.AxesSubplot at 0x7fc6c2e1ce90>"
      ]
     },
     "execution_count": 20,
     "metadata": {},
     "output_type": "execute_result"
    },
    {
     "data": {
      "image/png": "[encoded data removed]",
      "text/plain": [
       "<Figure size 432x288 with 1 Axes>"
      ]
     },
     "metadata": {
      "needs_background": "light"
     },
     "output_type": "display_data"
    }
   ],
   "source": [
    "df[df.Classification == 2].Z.hist()"
   ]
  },
  {
   "cell_type": "code",
   "execution_count": 21,
   "metadata": {},
   "outputs": [
    {
     "data": {
      "text/plain": [
       "<matplotlib.axes._subplots.AxesSubplot at 0x7fc6c2d368d0>"
      ]
     },
     "execution_count": 21,
     "metadata": {},
     "output_type": "execute_result"
    },
    {
     "data": {
      "image/png": "[encoded data removed]",
      "text/plain": [
       "<Figure size 432x288 with 2 Axes>"
      ]
     },
     "metadata": {
      "needs_background": "light"
     },
     "output_type": "display_data"
    }
   ],
   "source": [
    "df[df.Classification == 6].plot.scatter(x='X', y='Y', c='HeightAboveGround')"
   ]
  },
  {
   "cell_type": "code",
   "execution_count": 22,
   "metadata": {},
   "outputs": [
    {
     "name": "stderr",
     "output_type": "stream",
     "text": [
      "/home/fernando/miniconda3/envs/pcp-env/lib/python3.7/site-packages/ipykernel_launcher.py:2: SettingWithCopyWarning: \n",
      "A value is trying to be set on a copy of a slice from a DataFrame.\n",
      "Try using .loc[row_indexer,col_indexer] = value instead\n",
      "\n",
      "See the caveats in the documentation: https://pandas.pydata.org/pandas-docs/stable/user_guide/indexing.html#returning-a-view-versus-a-copy\n",
      "  \n"
     ]
    }
   ],
   "source": [
    "bd = df[df.Classification == 6]\n",
    "bd['xy'] = list(map(lambda x: (((x[1].X * 2).round() / 2), ((x[1].Y * 2).round() / 2)) , bd.iterrows()))"
   ]
  },
  {
   "cell_type": "code",
   "execution_count": 23,
   "metadata": {},
   "outputs": [
    {
     "data": {
      "text/plain": [
       "374.25"
      ]
     },
     "execution_count": 23,
     "metadata": {},
     "output_type": "execute_result"
    }
   ],
   "source": [
    "len(bd['xy'].unique())/4"
   ]
  },
  {
   "cell_type": "code",
   "execution_count": 24,
   "metadata": {},
   "outputs": [
    {
     "data": {
      "text/plain": [
       "2081.455610171509"
      ]
     },
     "execution_count": 24,
     "metadata": {},
     "output_type": "execute_result"
    }
   ],
   "source": [
    "sum(bd.groupby('xy').max().HeightAboveGround)/4"
   ]
  },
  {
   "cell_type": "markdown",
   "metadata": {},
   "source": [
    "## Visualizando dados"
   ]
  },
  {
   "cell_type": "code",
   "execution_count": 25,
   "metadata": {},
   "outputs": [],
   "source": [
    "# Reduzindo valores a mínimos para poderem ser visualizados\n",
    "\n",
    "df[['X', 'Y', 'Z']] = df[['X', 'Y', 'Z']] - df[['X', 'Y', 'Z']].min()"
   ]
  },
  {
   "cell_type": "code",
   "execution_count": 26,
   "metadata": {},
   "outputs": [],
   "source": [
    "gd = df[df.Classification == 2]\n",
    "bd = df[df.Classification == 6]\n",
    "vg = df[df.Classification == 5]"
   ]
  },
  {
   "cell_type": "code",
   "execution_count": 27,
   "metadata": {},
   "outputs": [
    {
     "name": "stderr",
     "output_type": "stream",
     "text": [
      "/home/fernando/miniconda3/envs/pcp-env/lib/python3.7/site-packages/pandas/core/frame.py:2963: SettingWithCopyWarning: \n",
      "A value is trying to be set on a copy of a slice from a DataFrame.\n",
      "Try using .loc[row_indexer,col_indexer] = value instead\n",
      "\n",
      "See the caveats in the documentation: https://pandas.pydata.org/pandas-docs/stable/user_guide/indexing.html#returning-a-view-versus-a-copy\n",
      "  self[k1] = value[k2]\n"
     ]
    }
   ],
   "source": [
    "bd[['X', 'Y', 'Z']] = (bd[['X', 'Y', 'Z']] * 2).round()/2"
   ]
  },
  {
   "cell_type": "code",
   "execution_count": 28,
   "metadata": {},
   "outputs": [
    {
     "data": {
      "text/plain": [
       "<matplotlib.axes._subplots.AxesSubplot at 0x7fc6bc6976d0>"
      ]
     },
     "execution_count": 28,
     "metadata": {},
     "output_type": "execute_result"
    },
    {
     "data": {
      "image/png": "[encoded data removed]",
      "text/plain": [
       "<Figure size 432x288 with 1 Axes>"
      ]
     },
     "metadata": {
      "needs_background": "light"
     },
     "output_type": "display_data"
    }
   ],
   "source": [
    "bd.HeightAboveGround.hist()"
   ]
  },
  {
   "cell_type": "code",
   "execution_count": 29,
   "metadata": {},
   "outputs": [
    {
     "ename": "AttributeError",
     "evalue": "'DataFrame' object has no attribute 'ClusterID'",
     "output_type": "error",
     "traceback": [
      "\u001b[0;31m---------------------------------------------------------------------------\u001b[0m",
      "\u001b[0;31mAttributeError\u001b[0m                            Traceback (most recent call last)",
      "\u001b[0;32m<ipython-input-29-d2718a585e83>\u001b[0m in \u001b[0;36m<module>\u001b[0;34m\u001b[0m\n\u001b[0;32m----> 1\u001b[0;31m \u001b[0mbd\u001b[0m\u001b[0;34m[\u001b[0m\u001b[0mbd\u001b[0m\u001b[0;34m.\u001b[0m\u001b[0mClusterID\u001b[0m \u001b[0;34m==\u001b[0m \u001b[0;36m1\u001b[0m\u001b[0;34m]\u001b[0m\u001b[0;34m.\u001b[0m\u001b[0mHeightAboveGround\u001b[0m\u001b[0;34m.\u001b[0m\u001b[0mhist\u001b[0m\u001b[0;34m(\u001b[0m\u001b[0;34m)\u001b[0m\u001b[0;34m\u001b[0m\u001b[0;34m\u001b[0m\u001b[0m\n\u001b[0m",
      "\u001b[0;32m~/miniconda3/envs/pcp-env/lib/python3.7/site-packages/pandas/core/generic.py\u001b[0m in \u001b[0;36m__getattr__\u001b[0;34m(self, name)\u001b[0m\n\u001b[1;32m   5272\u001b[0m             \u001b[0;32mif\u001b[0m \u001b[0mself\u001b[0m\u001b[0;34m.\u001b[0m\u001b[0m_info_axis\u001b[0m\u001b[0;34m.\u001b[0m\u001b[0m_can_hold_identifiers_and_holds_name\u001b[0m\u001b[0;34m(\u001b[0m\u001b[0mname\u001b[0m\u001b[0;34m)\u001b[0m\u001b[0;34m:\u001b[0m\u001b[0;34m\u001b[0m\u001b[0;34m\u001b[0m\u001b[0m\n\u001b[1;32m   5273\u001b[0m                 \u001b[0;32mreturn\u001b[0m \u001b[0mself\u001b[0m\u001b[0;34m[\u001b[0m\u001b[0mname\u001b[0m\u001b[0;34m]\u001b[0m\u001b[0;34m\u001b[0m\u001b[0;34m\u001b[0m\u001b[0m\n\u001b[0;32m-> 5274\u001b[0;31m             \u001b[0;32mreturn\u001b[0m \u001b[0mobject\u001b[0m\u001b[0;34m.\u001b[0m\u001b[0m__getattribute__\u001b[0m\u001b[0;34m(\u001b[0m\u001b[0mself\u001b[0m\u001b[0;34m,\u001b[0m \u001b[0mname\u001b[0m\u001b[0;34m)\u001b[0m\u001b[0;34m\u001b[0m\u001b[0;34m\u001b[0m\u001b[0m\n\u001b[0m\u001b[1;32m   5275\u001b[0m \u001b[0;34m\u001b[0m\u001b[0m\n\u001b[1;32m   5276\u001b[0m     \u001b[0;32mdef\u001b[0m \u001b[0m__setattr__\u001b[0m\u001b[0;34m(\u001b[0m\u001b[0mself\u001b[0m\u001b[0;34m,\u001b[0m \u001b[0mname\u001b[0m\u001b[0;34m:\u001b[0m \u001b[0mstr\u001b[0m\u001b[0;34m,\u001b[0m \u001b[0mvalue\u001b[0m\u001b[0;34m)\u001b[0m \u001b[0;34m->\u001b[0m \u001b[0;32mNone\u001b[0m\u001b[0;34m:\u001b[0m\u001b[0;34m\u001b[0m\u001b[0;34m\u001b[0m\u001b[0m\n",
      "\u001b[0;31mAttributeError\u001b[0m: 'DataFrame' object has no attribute 'ClusterID'"
     ]
    }
   ],
   "source": [
    "bd[bd.ClusterID == 1].HeightAboveGround.hist()"
   ]
  },
  {
   "cell_type": "code",
   "execution_count": null,
   "metadata": {},
   "outputs": [],
   "source": [
    "bd.HeightAboveGround.hist()"
   ]
  },
  {
   "cell_type": "code",
   "execution_count": null,
   "metadata": {},
   "outputs": [],
   "source": [
    "bd.groupby('ClusterID').size()"
   ]
  },
  {
   "cell_type": "code",
   "execution_count": null,
   "metadata": {},
   "outputs": [],
   "source": [
    "import ipyvolume as p3 \n",
    "\n",
    "fig = p3.figure(width=1000)\n",
    "fig.xlabel='Y'\n",
    "fig.ylabel='Z'\n",
    "fig.zlabel='X'\n",
    "all_points = p3.scatter(df['Y'], df['Z'], df['X'], color='grey', size=.2)\n",
    "# ground = p3.scatter(gd['Y'], gd['Z'], gd['X'], color='grey', size=.2)\n",
    "# building = p3.scatter(bd['Y'], bd['Z'], bd['X'], color='orange', size=.3)\n",
    "# vegetation = p3.scatter(vg['Y'], vg['Z'], vg['X'], color='green', size=.1)\n",
    "p3.squarelim()\n",
    "p3.show()"
   ]
  },
  {
   "cell_type": "code",
   "execution_count": null,
   "metadata": {},
   "outputs": [],
   "source": [
    "all_points.visible = False"
   ]
  },
  {
   "cell_type": "code",
   "execution_count": null,
   "metadata": {},
   "outputs": [],
   "source": [
    "\n",
    "building = p3.scatter(bd[bd.ClusterID == 1]['Y'], bd[bd.ClusterID == 1]['Z'], bd[bd.ClusterID == 1]['X'], color='orange', marker='box', size=0.5, grow_limits=False)\n",
    "fig.scatters.append(building)"
   ]
  },
  {
   "cell_type": "code",
   "execution_count": null,
   "metadata": {},
   "outputs": [],
   "source": [
    "building3 = p3.scatter(bd[bd.ClusterID == 3]['Y'], bd[bd.ClusterID == 3]['Z'], bd[bd.ClusterID == 3]['X'], color='red', marker='box', size=0.5, grow_limits=False)\n",
    "fig.scatters.append(building3)"
   ]
  },
  {
   "cell_type": "code",
   "execution_count": null,
   "metadata": {},
   "outputs": [],
   "source": [
    "building733 = p3.scatter(bd[bd.ClusterID == 733]['Y'], bd[bd.ClusterID == 733]['Z'], bd[bd.ClusterID == 733]['X'], color='white', marker='box', size=0.5, grow_limits=False)\n",
    "fig.scatters.append(building733)"
   ]
  },
  {
   "cell_type": "code",
   "execution_count": null,
   "metadata": {},
   "outputs": [],
   "source": [
    "vegetation = p3.scatter(vg['Y'], vg['Z'], vg['X'], color='green', size=.1, grow_limits=False)\n",
    "fig.scatters.append(vegetation)"
   ]
  },
  {
   "cell_type": "code",
   "execution_count": null,
   "metadata": {},
   "outputs": [],
   "source": [
    "import scipy.spatial\n",
    "\n",
    "ground_delaunay = scipy.spatial.Delaunay(gd[['X', 'Y']])\n",
    "ground_surface = p3.plot_trisurf(gd.Y, gd.Z, gd.X, ground_delaunay.simplices, color='grey')\n",
    "fig.meshes.append(ground_surface)"
   ]
  },
  {
   "cell_type": "markdown",
   "metadata": {},
   "source": [
    "## Trabalhando com o Open3D"
   ]
  },
  {
   "cell_type": "code",
   "execution_count": null,
   "metadata": {},
   "outputs": [],
   "source": [
    "import open3d as o3d"
   ]
  },
  {
   "cell_type": "code",
   "execution_count": null,
   "metadata": {},
   "outputs": [],
   "source": [
    "df[['X', 'Y', 'Z']].to_numpy()"
   ]
  },
  {
   "cell_type": "code",
   "execution_count": null,
   "metadata": {},
   "outputs": [],
   "source": [
    "pcd = o3d.geometry.PointCloud()\n",
    "pcd.points = o3d.utility.Vector3dVector(df[['X', 'Y', 'Z']].to_numpy())\n",
    "# pcd.colors = o3d.utility.Vector3dVector(df[['Red', 'Green', 'Blue']].to_numpy())"
   ]
  },
  {
   "cell_type": "code",
   "execution_count": null,
   "metadata": {},
   "outputs": [],
   "source": [
    "o3d.visualization.draw_geometries([pcd])"
   ]
  },
  {
   "cell_type": "markdown",
   "metadata": {},
   "source": [
    "## Contando cada árvore\n",
    "\n",
    "Agora vamos tentar aplicar um método para contar as árvores"
   ]
  },
  {
   "cell_type": "code",
   "execution_count": null,
   "metadata": {},
   "outputs": [],
   "source": [
    "# https://gis.stackexchange.com/questions/255300/finding-tree-canopy-width-using-pdal\n",
    "    \n",
    "#     filters.approximatecoplanar\n",
    "#     filters.estimaterank\n",
    "\n",
    "# Tree top detection using local maxima filtering: aparameter sensitivity analysis\n",
    "# https://hal.archives-ouvertes.fr/hal-00523245/document"
   ]
  },
  {
   "cell_type": "code",
   "execution_count": null,
   "metadata": {},
   "outputs": [],
   "source": [
    "\n",
    "import numpy as np\n",
    "\n",
    "def local_max(coords, radius, density_threshold=0):\n",
    "    '''\n",
    "    Find local maxima of points in a pointcloud.\n",
    "    '''\n",
    "    max_box = coords.copy()\n",
    "    for i in range(2):\n",
    "        max_box['X{}'.format(i)] = ((coords['X']/radius + i) /2).astype(int)*2\n",
    "        max_box['Y{}'.format(i)] = ((coords['Y']/radius + i) /2).astype(int)*2\n",
    "    max_box['X_'] = (coords['X']/radius).astype(int)\n",
    "    max_box['Y_'] = (coords['Y']/radius).astype(int)\n",
    "    for i in range(2):\n",
    "        for j in range(2):\n",
    "            max_box[str(i)+str(j)] = max_box.groupby(['X{}'.format(i), 'Y{}'.format(j)])['Z'].transform(np.max)\n",
    "    density = max_box.groupby(['X_','Y_'])['Z'].transform(len)\n",
    "    is_max = (max_box['00'] == max_box['10']) & (max_box['10'] == max_box['01']) & (max_box['01'] == max_box['11']) & (max_box['11'] == coords['Z'])\n",
    "    return coords[is_max & (density >= (density_threshold))]"
   ]
  },
  {
   "cell_type": "code",
   "execution_count": null,
   "metadata": {},
   "outputs": [],
   "source": [
    "lep = local_max(vg[['X','Y','Z','HeightAboveGround']], radius=3, density_threshold=0)"
   ]
  },
  {
   "cell_type": "code",
   "execution_count": null,
   "metadata": {},
   "outputs": [],
   "source": [
    "lep"
   ]
  },
  {
   "cell_type": "code",
   "execution_count": null,
   "metadata": {},
   "outputs": [],
   "source": [
    "treetop_spheres = p3.scatter(lep['Y'], lep['Z'], lep['X'], color='red', size=2, marker='sphere', grow_limits=False)\n",
    "fig.scatters.append(treetop_spheres)"
   ]
  },
  {
   "cell_type": "code",
   "execution_count": null,
   "metadata": {},
   "outputs": [],
   "source": []
  }
 ],
 "metadata": {
  "kernelspec": {
   "display_name": "Python 3",
   "language": "python",
   "name": "python3"
  },
  "language_info": {
   "codemirror_mode": {
    "name": "ipython",
    "version": 3
   },
   "file_extension": ".py",
   "mimetype": "text/x-python",
   "name": "python",
   "nbconvert_exporter": "python",
   "pygments_lexer": "ipython3",
   "version": "3.7.6"
  }
 },
 "nbformat": 4,
 "nbformat_minor": 4
}
